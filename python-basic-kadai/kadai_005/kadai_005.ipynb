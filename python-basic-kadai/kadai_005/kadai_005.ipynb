{
  "nbformat": 4,
  "nbformat_minor": 0,
  "metadata": {
    "colab": {
      "provenance": [],
      "toc_visible": true
    },
    "kernelspec": {
      "name": "python3",
      "display_name": "Python 3"
    },
    "language_info": {
      "name": "python"
    }
  },
  "cells": [
    {
      "cell_type": "code",
      "source": [
        "# 台形の辺の長さ\n",
        "top = 10   # 上辺（cm）\n",
        "bottom = 20  # 下辺（cm）\n",
        "height = 5   # 高さ（cm）\n",
        "\n",
        "# 台形の面積の公式\n",
        "area = (top + bottom) * height / 2\n",
        "\n",
        "print(f\"台形の面積は {area} cm² です。\")\n"
      ],
      "metadata": {
        "id": "qbpFq7ee-Akp",
        "outputId": "2d44f419-e3bb-40dd-939e-3820abf02080",
        "colab": {
          "base_uri": "https://localhost:8080/"
        }
      },
      "execution_count": 2,
      "outputs": [
        {
          "output_type": "stream",
          "name": "stdout",
          "text": [
            "台形の面積は 75.0 cm² です。\n"
          ]
        }
      ]
    }
  ]
}