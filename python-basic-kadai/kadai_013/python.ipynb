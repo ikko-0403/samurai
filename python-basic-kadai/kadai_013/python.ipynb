{
  "nbformat": 4,
  "nbformat_minor": 0,
  "metadata": {
    "colab": {
      "provenance": [],
      "toc_visible": true
    },
    "kernelspec": {
      "name": "python3",
      "display_name": "Python 3"
    },
    "language_info": {
      "name": "python"
    }
  },
  "cells": [
    {
      "cell_type": "code",
      "source": [
        "# 消費税込みの金額を計算する関数\n",
        "def add_tax(price, tax_rate):\n",
        "    result = price + (price * tax_rate / 100)  # 税額を足す\n",
        "    return result  # 結果を返す\n",
        "\n",
        "# 関数を呼び出して変数に代入\n",
        "total = add_tax(110, 10)  # 110円の商品に10%の消費税\n",
        "\n",
        "# 出力\n",
        "print(total)  # 121.0\n"
      ],
      "metadata": {
        "colab": {
          "base_uri": "https://localhost:8080/"
        },
        "id": "VVf_4DjEuacD",
        "outputId": "cec8c6b9-c577-4828-abef-f842b5eb70e8"
      },
      "execution_count": 48,
      "outputs": [
        {
          "output_type": "stream",
          "name": "stdout",
          "text": [
            "121.0\n"
          ]
        }
      ]
    }
  ]
}