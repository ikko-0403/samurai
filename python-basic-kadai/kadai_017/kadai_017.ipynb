{
  "nbformat": 4,
  "nbformat_minor": 0,
  "metadata": {
    "colab": {
      "provenance": [],
      "toc_visible": true
    },
    "kernelspec": {
      "name": "python3",
      "display_name": "Python 3"
    },
    "language_info": {
      "name": "python"
    }
  },
  "cells": [
    {
      "cell_type": "code",
      "source": [
        "class Human:\n",
        "    def __init__(self, name, age):\n",
        "        self.name = name\n",
        "        self.age = age\n",
        "\n",
        "    def check_adult(self):\n",
        "        if self.age >= 20:\n",
        "            print(f\"{self.name}（{self.age}歳）は大人です。\")\n",
        "        else:\n",
        "            print(f\"{self.name}（{self.age}歳）は大人ではありません。\")\n",
        "\n",
        "person1 = Human(\"カズミツ\", 29)\n",
        "person2 = Human(\"ハナコ\", 18)\n",
        "person3 = Human(\"タロウ\", 20)\n",
        "\n",
        "people = [person1, person2, person3]\n",
        "\n",
        "for person in people:\n",
        "    person.check_adult()\n"
      ],
      "metadata": {
        "colab": {
          "base_uri": "https://localhost:8080/"
        },
        "id": "lqpqLZDGSbUQ",
        "outputId": "d493cd98-7e00-42bd-e25c-d1d7da94ed3b"
      },
      "execution_count": 4,
      "outputs": [
        {
          "output_type": "stream",
          "name": "stdout",
          "text": [
            "カズミツ（29歳）は大人です。\n",
            "ハナコ（18歳）は大人ではありません。\n",
            "タロウ（20歳）は大人です。\n"
          ]
        }
      ]
    }
  ]
}